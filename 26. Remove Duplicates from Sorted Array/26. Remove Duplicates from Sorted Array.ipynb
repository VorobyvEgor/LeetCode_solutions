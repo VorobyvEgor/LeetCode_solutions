{
 "cells": [
  {
   "cell_type": "code",
   "execution_count": 63,
   "outputs": [
    {
     "name": "stdout",
     "output_type": "stream",
     "text": [
      "i = 1, s = [0, 0, 1, 1, 1, 2, 2, 3, 3, 4], newTail = 0\n",
      "i = 2, s = [0, 0, 1, 1, 1, 2, 2, 3, 3, 4], newTail = 0\n",
      "i = 3, s = [0, 1, 1, 1, 1, 2, 2, 3, 3, 4], newTail = 1\n",
      "i = 4, s = [0, 1, 1, 1, 1, 2, 2, 3, 3, 4], newTail = 1\n",
      "i = 5, s = [0, 1, 1, 1, 1, 2, 2, 3, 3, 4], newTail = 1\n",
      "i = 6, s = [0, 1, 2, 1, 1, 2, 2, 3, 3, 4], newTail = 2\n",
      "i = 7, s = [0, 1, 2, 1, 1, 2, 2, 3, 3, 4], newTail = 2\n",
      "i = 8, s = [0, 1, 2, 3, 1, 2, 2, 3, 3, 4], newTail = 3\n",
      "i = 9, s = [0, 1, 2, 3, 1, 2, 2, 3, 3, 4], newTail = 3\n",
      "4 [0, 1, 2, 3, 4, 2, 2, 3, 3, 4]\n"
     ]
    }
   ],
   "source": [
    "nums = [0,0,1,1,1,2,2,3,3,4]\n",
    "n = 0\n",
    "for i in range(1, len(nums)):\n",
    "    if nums[i] != nums[n]:\n",
    "        n += 1\n",
    "        nums[n] = nums[i]\n",
    "print(n, nums)"
   ],
   "metadata": {
    "collapsed": false,
    "pycharm": {
     "name": "#%%\n"
    }
   }
  },
  {
   "cell_type": "code",
   "execution_count": 64,
   "outputs": [
    {
     "data": {
      "text/plain": "5"
     },
     "execution_count": 64,
     "metadata": {},
     "output_type": "execute_result"
    }
   ],
   "source": [
    "n + 1"
   ],
   "metadata": {
    "collapsed": false,
    "pycharm": {
     "name": "#%%\n"
    }
   }
  },
  {
   "cell_type": "code",
   "execution_count": null,
   "outputs": [],
   "source": [],
   "metadata": {
    "collapsed": false,
    "pycharm": {
     "name": "#%%\n"
    }
   }
  }
 ],
 "metadata": {
  "kernelspec": {
   "display_name": "Python 3",
   "language": "python",
   "name": "python3"
  },
  "language_info": {
   "codemirror_mode": {
    "name": "ipython",
    "version": 2
   },
   "file_extension": ".py",
   "mimetype": "text/x-python",
   "name": "python",
   "nbconvert_exporter": "python",
   "pygments_lexer": "ipython2",
   "version": "2.7.6"
  }
 },
 "nbformat": 4,
 "nbformat_minor": 0
}